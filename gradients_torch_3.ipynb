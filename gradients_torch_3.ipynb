{
 "nbformat": 4,
 "nbformat_minor": 2,
 "metadata": {
  "language_info": {
   "name": "python",
   "codemirror_mode": {
    "name": "ipython",
    "version": 3
   },
   "version": "2.7.17-final"
  },
  "orig_nbformat": 2,
  "file_extension": ".py",
  "mimetype": "text/x-python",
  "name": "python",
  "npconvert_exporter": "python",
  "pygments_lexer": "ipython3",
  "version": 3,
  "kernelspec": {
   "name": "python36964bit4e1d08797c38429da47bae3b5e98a464",
   "display_name": "Python 3.6.9 64-bit"
  }
 },
 "cells": [
  {
   "cell_type": "code",
   "execution_count": 8,
   "metadata": {},
   "outputs": [],
   "source": [
    "import torch\n",
    "import torch.nn as nn"
   ]
  },
  {
   "cell_type": "code",
   "execution_count": 9,
   "metadata": {},
   "outputs": [
    {
     "data": {
      "text/plain": "'\\n    - Prediction: Pytorch Model\\n    - Gradients Computation: Autograd (Automatic Gradient)\\n    - Loss computation: Pytorch Loss\\n    - Parameter Updates: PyTorch Optimizer\\n\\n    Steps: \\n    1. Design model (input, output size, forward pass)\\n    2. Construct loss and optimizer\\n    3. training loop\\n        - Forward pass: Compute Prediction\\n        - Backward pass: Gradients\\n        - Update Weights\\n'"
     },
     "execution_count": 9,
     "metadata": {},
     "output_type": "execute_result"
    }
   ],
   "source": [
    "'''\n",
    "    - Prediction: Pytorch Model\n",
    "    - Gradients Computation: Autograd (Automatic Gradient)\n",
    "    - Loss computation: Pytorch Loss\n",
    "    - Parameter Updates: PyTorch Optimizer\n",
    "\n",
    "    Steps: \n",
    "    1. Design model (input, output size, forward pass)\n",
    "    2. Construct loss and optimizer\n",
    "    3. training loop\n",
    "        - Forward pass: Compute Prediction\n",
    "        - Backward pass: Gradients\n",
    "        - Update Weights\n",
    "'''"
   ]
  },
  {
   "cell_type": "code",
   "execution_count": 10,
   "metadata": {},
   "outputs": [
    {
     "name": "stdout",
     "output_type": "stream",
     "text": "4 1\n"
    }
   ],
   "source": [
    "# f = w * x | f = 2 * x\n",
    "# Needs to be 2D for nn.Linear\n",
    "X = torch.tensor([[1], [2], [3], [4]], dtype=torch.float32)\n",
    "Y = torch.tensor([[2], [4], [6], [8]], dtype=torch.float32)\n",
    "\n",
    "n_samples, n_features = X.shape\n",
    "print(n_samples, n_features)"
   ]
  },
  {
   "cell_type": "code",
   "execution_count": 11,
   "metadata": {},
   "outputs": [],
   "source": [
    "input_size = n_features\n",
    "output_size = n_features\n",
    "# model = nn.Linear(input_size, output_size)"
   ]
  },
  {
   "cell_type": "code",
   "execution_count": 12,
   "metadata": {},
   "outputs": [],
   "source": [
    "# Derive custom model\n",
    "class LinearRegression(nn.Module):\n",
    "    def __init__(self, input_dim, output_dim):\n",
    "        super(LinearRegression, self).__init__()\n",
    "        # define layers\n",
    "        self.lin = nn.Linear(input_dim, output_dim)\n",
    "\n",
    "    def forward(self, x):\n",
    "        return self.lin(x)\n",
    "model = LinearRegression(input_size, output_size)"
   ]
  },
  {
   "cell_type": "code",
   "execution_count": 13,
   "metadata": {},
   "outputs": [
    {
     "name": "stdout",
     "output_type": "stream",
     "text": "Prediction before training: f(5) = 3.600\n"
    }
   ],
   "source": [
    "X_test = torch.tensor([5],dtype=torch.float32)\n",
    "print(f'Prediction before training: f(5) = {model(X_test).item():.3f}')"
   ]
  },
  {
   "cell_type": "code",
   "execution_count": 14,
   "metadata": {},
   "outputs": [
    {
     "name": "stdout",
     "output_type": "stream",
     "text": "Epoch 1: w = 0.731, loss = 10.38707256\nEpoch 11: w = 1.473, loss = 0.48049518\nEpoch 21: w = 1.602, loss = 0.21186315\nEpoch 31: w = 1.632, loss = 0.19330505\nEpoch 41: w = 1.646, loss = 0.18189251\nEpoch 51: w = 1.656, loss = 0.17130128\nEpoch 61: w = 1.667, loss = 0.16133057\nEpoch 71: w = 1.677, loss = 0.15194035\nEpoch 81: w = 1.686, loss = 0.14309663\nEpoch 91: w = 1.695, loss = 0.13476759\nPrediction after training: f(5) = 9.389\n"
    }
   ],
   "source": [
    "# Training \n",
    "learning_rate = 0.01\n",
    "n_iters = 100\n",
    "\n",
    "loss = nn.MSELoss()\n",
    "optimizer = torch.optim.SGD(model.parameters(), lr=learning_rate)\n",
    "\n",
    "for epoch in range(n_iters):\n",
    "    # prediction = forward pass\n",
    "    y_pred = model(X)\n",
    "    # Loss\n",
    "    l = loss(Y, y_pred)\n",
    "    # Gradients = backward pass\n",
    "    l.backward() # dl/dw\n",
    "\n",
    "    # update weights\n",
    "    optimizer.step()\n",
    "\n",
    "    # zero gradients so that on backward \n",
    "    optimizer.zero_grad()\n",
    "\n",
    "    if epoch%10 == 0:\n",
    "        [w, b] = model.parameters()\n",
    "        print(f'Epoch {epoch+1}: w = {w[0][0].item():.3f}, loss = {l:.8f}')\n",
    "\n",
    "print(f'Prediction after training: f(5) = {model(X_test).item():.3f}')"
   ]
  },
  {
   "cell_type": "code",
   "execution_count": null,
   "metadata": {},
   "outputs": [],
   "source": []
  }
 ]
}