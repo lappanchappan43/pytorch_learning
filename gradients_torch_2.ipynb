{
 "nbformat": 4,
 "nbformat_minor": 2,
 "metadata": {
  "language_info": {
   "name": "python",
   "codemirror_mode": {
    "name": "ipython",
    "version": 3
   },
   "version": "2.7.17-final"
  },
  "orig_nbformat": 2,
  "file_extension": ".py",
  "mimetype": "text/x-python",
  "name": "python",
  "npconvert_exporter": "python",
  "pygments_lexer": "ipython3",
  "version": 3,
  "kernelspec": {
   "name": "python36964bit4e1d08797c38429da47bae3b5e98a464",
   "display_name": "Python 3.6.9 64-bit"
  }
 },
 "cells": [
  {
   "cell_type": "code",
   "execution_count": 4,
   "metadata": {},
   "outputs": [],
   "source": [
    "import torch\n",
    "import torch.nn as nn"
   ]
  },
  {
   "cell_type": "code",
   "execution_count": 1,
   "metadata": {},
   "outputs": [
    {
     "data": {
      "text/plain": "'\\n    - Prediction: Manually\\n    - Gradients Computation: Autograd (Automatic Gradient)\\n    - Loss computation: Pytorch Loss\\n    - Parameter Updates: PyTorch Optimizer\\n\\n    Steps: \\n    1. Design model (input, output size, forward pass)\\n    2. Construct loss and optimizer\\n    3. training loop\\n        - Forward pass: Compute Prediction\\n        - Backward pass: Gradients\\n        - Update Weights\\n'"
     },
     "execution_count": 1,
     "metadata": {},
     "output_type": "execute_result"
    }
   ],
   "source": [
    "'''\n",
    "    - Prediction: Manually\n",
    "    - Gradients Computation: Autograd (Automatic Gradient)\n",
    "    - Loss computation: Pytorch Loss\n",
    "    - Parameter Updates: PyTorch Optimizer\n",
    "\n",
    "    Steps: \n",
    "    1. Design model (input, output size, forward pass)\n",
    "    2. Construct loss and optimizer\n",
    "    3. training loop\n",
    "        - Forward pass: Compute Prediction\n",
    "        - Backward pass: Gradients\n",
    "        - Update Weights\n",
    "'''"
   ]
  },
  {
   "cell_type": "code",
   "execution_count": 5,
   "metadata": {},
   "outputs": [],
   "source": [
    "# f = w * x | f = 2 * x\n",
    "X = torch.tensor([1, 2, 3, 4], dtype=torch.float32)\n",
    "Y = torch.tensor([2, 4, 6, 8], dtype=torch.float32)\n",
    "\n",
    "w = torch.tensor(0.0, dtype=torch.float32, requires_grad=True)\n"
   ]
  },
  {
   "cell_type": "code",
   "execution_count": 6,
   "metadata": {},
   "outputs": [],
   "source": [
    "# Calculate model prediction\n",
    "def forward(x):\n",
    "    return w * x"
   ]
  },
  {
   "cell_type": "code",
   "execution_count": 7,
   "metadata": {},
   "outputs": [
    {
     "name": "stdout",
     "output_type": "stream",
     "text": "Prediction before training: f(5) = 0.000\n"
    }
   ],
   "source": [
    "print(f'Prediction before training: f(5) = {forward(5):.3f}')"
   ]
  },
  {
   "cell_type": "code",
   "execution_count": 9,
   "metadata": {},
   "outputs": [
    {
     "name": "stdout",
     "output_type": "stream",
     "text": "Epoch 1: w = 1.934, loss = 0.04506890\nEpoch 11: w = 1.987, loss = 0.00174685\nEpoch 21: w = 1.997, loss = 0.00006770\nEpoch 31: w = 1.999, loss = 0.00000262\nEpoch 41: w = 2.000, loss = 0.00000010\nEpoch 51: w = 2.000, loss = 0.00000000\nEpoch 61: w = 2.000, loss = 0.00000000\nEpoch 71: w = 2.000, loss = 0.00000000\nEpoch 81: w = 2.000, loss = 0.00000000\nEpoch 91: w = 2.000, loss = 0.00000000\nPrediction after training: f(5) = 10.000\n"
    }
   ],
   "source": [
    "# Training \n",
    "learning_rate = 0.01\n",
    "n_iters = 100\n",
    "\n",
    "loss = nn.MSELoss()\n",
    "optimizer = torch.optim.SGD([w], lr=learning_rate)\n",
    "\n",
    "for epoch in range(n_iters):\n",
    "    # prediction = forward pass\n",
    "    y_pred = forward(X)\n",
    "    # Loss\n",
    "    l = loss(Y, y_pred)\n",
    "    # Gradients = backward pass\n",
    "    l.backward() # dl/dw\n",
    "\n",
    "    # update weights\n",
    "    optimizer.step()\n",
    "\n",
    "    # zero gradients so that on backward \n",
    "    optimizer.zero_grad()\n",
    "\n",
    "    if epoch%10 == 0:\n",
    "        print(f'Epoch {epoch+1}: w = {w:.3f}, loss = {l:.8f}')\n",
    "\n",
    "print(f'Prediction after training: f(5) = {forward(5):.3f}')"
   ]
  },
  {
   "cell_type": "code",
   "execution_count": null,
   "metadata": {},
   "outputs": [],
   "source": []
  }
 ]
}